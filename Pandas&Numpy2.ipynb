{
  "nbformat": 4,
  "nbformat_minor": 0,
  "metadata": {
    "colab": {
      "provenance": []
    },
    "kernelspec": {
      "name": "python3",
      "display_name": "Python 3"
    },
    "language_info": {
      "name": "python"
    }
  },
  "cells": [
    {
      "cell_type": "code",
      "execution_count": null,
      "metadata": {
        "colab": {
          "base_uri": "https://localhost:8080/"
        },
        "id": "9_1ku7-b5W8W",
        "outputId": "67e8c20e-93e5-4ee5-a2a4-6a0278bc4e8b"
      },
      "outputs": [
        {
          "output_type": "stream",
          "name": "stdout",
          "text": [
            "[1, 4, 9, 16, 25, 36, 49, 64, 81, 100, 121, 144, 169, 196, 225, 256]\n",
            "[  1   4   9  16  25  36  49  64  81 100 121 144 169 196 225 256]\n"
          ]
        }
      ],
      "source": [
        "import numpy as np\n",
        "\n",
        "\n",
        "array = np.array([1, 2, 3, 4, 5, 6, 7, 8, 9, 10, 11, 12, 13, 14, 15, 16])\n",
        "\n",
        "result = []\n",
        "for i in array:\n",
        "  result.append(i **2)\n",
        "\n",
        "print(result)\n",
        "\n",
        "vectorize = array **2\n",
        "print(vectorize)"
      ]
    },
    {
      "cell_type": "code",
      "source": [
        "array =np.array([10,4,53,223])\n",
        "array_2d = np.array([[10,4,53,223],[10,4,53,223]])\n",
        "print(array_2d)\n",
        "filteredarray =array[array>20]\n",
        "print(filteredarray)\n",
        "\n",
        "sort = np.sort(array)\n",
        "print(sort)\n",
        "\n",
        "sort2d = np.sort(array_2d,axis=1)\n",
        "print(sort2d)\n"
      ],
      "metadata": {
        "colab": {
          "base_uri": "https://localhost:8080/"
        },
        "id": "fE4mIxof7kbq",
        "outputId": "19a077e2-ca40-46b2-e499-ba3a0da7a798"
      },
      "execution_count": null,
      "outputs": [
        {
          "output_type": "stream",
          "name": "stdout",
          "text": [
            "[[ 10   4  53 223]\n",
            " [ 10   4  53 223]]\n",
            "[ 53 223]\n",
            "[  4  10  53 223]\n",
            "[[  4  10  53 223]\n",
            " [  4  10  53 223]]\n"
          ]
        }
      ]
    },
    {
      "cell_type": "code",
      "source": [
        "array1 = np.array([1,2,3])\n",
        "array2 = np.array([7,8,9])\n",
        "\n",
        "dot = np.dot(array1,array2)\n",
        "print(dot)"
      ],
      "metadata": {
        "colab": {
          "base_uri": "https://localhost:8080/"
        },
        "id": "Nz7cJTZf76j8",
        "outputId": "1b7aa104-7a16-4353-85a0-3f0501268f3f"
      },
      "execution_count": null,
      "outputs": [
        {
          "output_type": "stream",
          "name": "stdout",
          "text": [
            "50\n"
          ]
        }
      ]
    },
    {
      "cell_type": "code",
      "source": [
        "matrix1 = np.array([[1, 2], [3, 4]])\n",
        "matrix2 = np.array([[5, 6], [7, 8]])\n",
        "\n",
        "matrix_dot_product = np.dot(matrix1, matrix2)\n",
        "print(matrix_dot_product)\n",
        "# [[19 22]\n",
        "#  [43 50]]\n",
        "\n",
        "matrix = np.transpose(matrix1)\n",
        "print(matrix)\n"
      ],
      "metadata": {
        "colab": {
          "base_uri": "https://localhost:8080/"
        },
        "id": "fcRt_MF58xPZ",
        "outputId": "b91fe671-c420-4cd1-b556-fd1e410d88de"
      },
      "execution_count": null,
      "outputs": [
        {
          "output_type": "stream",
          "name": "stdout",
          "text": [
            "[[19 22]\n",
            " [43 50]]\n",
            "[[1 3]\n",
            " [2 4]]\n"
          ]
        }
      ]
    },
    {
      "cell_type": "code",
      "source": [
        "matrix = np.array([[1, 2], [3, 4]])\n",
        "inverse = np.linalg.inv(matrix)\n",
        "print(inverse)\n",
        "# [[-2.   1. ]\n",
        "#  [ 1.5 -0.5]]\n"
      ],
      "metadata": {
        "colab": {
          "base_uri": "https://localhost:8080/"
        },
        "id": "00R6_y930VvL",
        "outputId": "7101dfee-b350-4477-d982-6eb63b634150"
      },
      "execution_count": null,
      "outputs": [
        {
          "output_type": "stream",
          "name": "stdout",
          "text": [
            "[[-2.   1. ]\n",
            " [ 1.5 -0.5]]\n"
          ]
        }
      ]
    },
    {
      "cell_type": "code",
      "source": [
        "matrix = np.array([[1, 2], [ 5, 6]])\n",
        "print(matrix)\n",
        "\n",
        "inverse = np.linalg.inv(matrix)\n",
        "print(inverse)\n",
        "\n",
        "determinant = np.linalg.det(matrix)\n",
        "print(determinant)\n",
        "\n",
        "eigenvalues, eigenvectors = np.linalg.eig(matrix)\n",
        "print(eigenvalues)\n",
        "print(eigenvectors)\n",
        "\n"
      ],
      "metadata": {
        "id": "L39yuNID8_Es",
        "colab": {
          "base_uri": "https://localhost:8080/"
        },
        "outputId": "2254fbb1-5a6e-4dfc-9b64-6da82f9773d3"
      },
      "execution_count": null,
      "outputs": [
        {
          "output_type": "stream",
          "name": "stdout",
          "text": [
            "[[1 2]\n",
            " [5 6]]\n",
            "[[-1.5   0.5 ]\n",
            " [ 1.25 -0.25]]\n",
            "-3.999999999999999\n",
            "[-0.53112887  7.53112887]\n",
            "[[-0.79402877 -0.2928046 ]\n",
            " [ 0.60788018 -0.9561723 ]]\n"
          ]
        }
      ]
    },
    {
      "cell_type": "code",
      "source": [
        "a = np.array([[1, 2], [3, 4]])\n",
        "b = np.array([5, 6])\n",
        "\n",
        "solution = np.linalg.solve(a, b)\n",
        "print(solution)"
      ],
      "metadata": {
        "colab": {
          "base_uri": "https://localhost:8080/"
        },
        "id": "oA9hiuRg0f_8",
        "outputId": "cba28e82-7e00-4897-e847-b8e64aad201b"
      },
      "execution_count": null,
      "outputs": [
        {
          "output_type": "stream",
          "name": "stdout",
          "text": [
            "[-4.   4.5]\n"
          ]
        }
      ]
    },
    {
      "cell_type": "code",
      "source": [
        "random_uniform = np.random.rand(3)  # 3 random numbers between 0 and 1\n",
        "print(random_uniform)\n",
        "\n",
        "random_normal = np.random.randn(3)  # 3 random numbers from a standard normal distribution\n",
        "print(random_normal)\n"
      ],
      "metadata": {
        "colab": {
          "base_uri": "https://localhost:8080/"
        },
        "id": "9y79_iS01ScE",
        "outputId": "b14a28b4-e4ec-4d16-e73a-db5402ae2f5a"
      },
      "execution_count": null,
      "outputs": [
        {
          "output_type": "stream",
          "name": "stdout",
          "text": [
            "[0.37702275 0.32705544 0.33403526]\n",
            "[0.01764442 0.74192577 1.88227526]\n"
          ]
        }
      ]
    },
    {
      "cell_type": "code",
      "source": [
        "array = np.array([10, 20, 30, 40])\n",
        "random_sample = np.random.choice(array, size=2)\n",
        "print(random_sample)  # Randomly selects 2 values from the array\n"
      ],
      "metadata": {
        "colab": {
          "base_uri": "https://localhost:8080/"
        },
        "id": "1xF4WoxY1gZ8",
        "outputId": "325c0eef-b236-4d41-d09e-da90fef2df1b"
      },
      "execution_count": null,
      "outputs": [
        {
          "output_type": "stream",
          "name": "stdout",
          "text": [
            "[10 20]\n"
          ]
        }
      ]
    },
    {
      "cell_type": "code",
      "source": [
        "random_integers = np.random.randint(1, 100, size=5)  # 5 random integers between 1 and 100\n",
        "print(random_integers)\n"
      ],
      "metadata": {
        "colab": {
          "base_uri": "https://localhost:8080/"
        },
        "id": "lAQfFfSw1m83",
        "outputId": "fd59250b-256e-4434-f717-9428a89df53d"
      },
      "execution_count": null,
      "outputs": [
        {
          "output_type": "stream",
          "name": "stdout",
          "text": [
            "[68 99 47 85  5]\n"
          ]
        }
      ]
    },
    {
      "cell_type": "code",
      "source": [
        "np.random.seed(42)\n",
        "random_values = np.random.rand(3)\n",
        "print(random_values)  # Always produces the same result with seed 42\n"
      ],
      "metadata": {
        "id": "AnT4W9IX1qYI",
        "outputId": "af55515a-ac9a-4c41-cc65-95c66d102a69",
        "colab": {
          "base_uri": "https://localhost:8080/"
        }
      },
      "execution_count": null,
      "outputs": [
        {
          "output_type": "stream",
          "name": "stdout",
          "text": [
            "[0.37454012 0.95071431 0.73199394]\n"
          ]
        }
      ]
    }
  ]
}