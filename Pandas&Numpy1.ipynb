{
  "nbformat": 4,
  "nbformat_minor": 0,
  "metadata": {
    "colab": {
      "provenance": []
    },
    "kernelspec": {
      "name": "python3",
      "display_name": "Python 3"
    },
    "language_info": {
      "name": "python"
    }
  },
  "cells": [
    {
      "cell_type": "code",
      "execution_count": 1,
      "metadata": {
        "colab": {
          "base_uri": "https://localhost:8080/"
        },
        "id": "5vW5h3L20Ole",
        "outputId": "8032e5a4-fe4e-4b63-db8b-91291b3d516d"
      },
      "outputs": [
        {
          "output_type": "stream",
          "name": "stdout",
          "text": [
            "[1 2 3 4 5]\n",
            "<class 'numpy.ndarray'>\n",
            "[[1 2 3]\n",
            " [4 5 6]]\n",
            "<class 'numpy.ndarray'>\n"
          ]
        }
      ],
      "source": [
        "import numpy as np\n",
        "\n",
        "array_1d = np.array([1, 2, 3, 4, 5])\n",
        "print(array_1d)\n",
        "print(type(array_1d))\n",
        "\n",
        "array_2d = np.array([[1, 2, 3], [4, 5, 6]])\n",
        "print(array_2d)\n",
        "print(type(array_2d))"
      ]
    },
    {
      "cell_type": "code",
      "source": [
        "zeros_array = np.zeros((2,3))\n",
        "ones_array = np.ones((2,3))\n",
        "empty_array = np.empty((2,3))\n",
        "range_array = np.arange(1,100,11)\n",
        "linespace_array = np.linspace(1,100,5)\n",
        "print(zeros_array)\n",
        "print(ones_array)\n",
        "print(empty_array)\n",
        "print(range_array)\n",
        "print(linespace_array)"
      ],
      "metadata": {
        "colab": {
          "base_uri": "https://localhost:8080/"
        },
        "id": "pYnodEBp0j_m",
        "outputId": "f5c33bf3-e1b0-438b-9ecc-f3033e8cdbe1"
      },
      "execution_count": 4,
      "outputs": [
        {
          "output_type": "stream",
          "name": "stdout",
          "text": [
            "[[0. 0. 0.]\n",
            " [0. 0. 0.]]\n",
            "[[1. 1. 1.]\n",
            " [1. 1. 1.]]\n",
            "[[1. 1. 1.]\n",
            " [1. 1. 1.]]\n",
            "[ 1 12 23 34 45 56 67 78 89]\n",
            "[  1.    25.75  50.5   75.25 100.  ]\n"
          ]
        }
      ]
    },
    {
      "cell_type": "markdown",
      "source": [
        "Using Built-in Functions: NumPy provides several functions to create arrays.\n",
        "\n",
        "np.zeros(shape): Creates an array of zeros.\n",
        "np.ones(shape): Creates an array of ones.\n",
        "np.arange(start, stop, step): Creates an array with a range of values.\n",
        "np.linspace(start, stop, num): Creates an array of evenly spaced values between the start and stop."
      ],
      "metadata": {
        "id": "B16ufY7Z0qKF"
      }
    },
    {
      "cell_type": "code",
      "source": [
        "array = np.array([[1,2,3],[4,5,6]])\n",
        "\n",
        "print(\"shape:\", array.shape)\n",
        "print(\"size:\", array.size)\n",
        "print(\"ndim:\", array.ndim)\n",
        "print(\"dtype:\", array.dtype)\n",
        "\n",
        "print(array)"
      ],
      "metadata": {
        "colab": {
          "base_uri": "https://localhost:8080/"
        },
        "id": "8EE0Eif51g9J",
        "outputId": "4e0acc36-e366-4e6b-e905-a4825047dc38"
      },
      "execution_count": 5,
      "outputs": [
        {
          "output_type": "stream",
          "name": "stdout",
          "text": [
            "shape: (2, 3)\n",
            "size: 6\n",
            "ndim: 2\n",
            "dtype: int64\n",
            "[[1 2 3]\n",
            " [4 5 6]]\n"
          ]
        }
      ]
    },
    {
      "cell_type": "code",
      "source": [
        "array =np.array([[1,2,3],[4,5,6]])\n",
        "print(array[0])\n",
        "\n",
        "print(array[1,2])\n",
        "print(array[1:4])\n",
        "array = np.array([10, 20, 30, 40, 50])\n",
        "indices = [0, 2, 4]\n",
        "print(array[indices])  # [10, 30, 50]\n"
      ],
      "metadata": {
        "colab": {
          "base_uri": "https://localhost:8080/"
        },
        "id": "56QWJyqS2Ny9",
        "outputId": "84827815-0b24-472f-a5f3-2fe162b844f1"
      },
      "execution_count": 7,
      "outputs": [
        {
          "output_type": "stream",
          "name": "stdout",
          "text": [
            "[1 2 3]\n",
            "6\n",
            "[[4 5 6]]\n",
            "[10 30 50]\n"
          ]
        }
      ]
    },
    {
      "cell_type": "code",
      "source": [
        "array = np.array([[1,2,3],[4,5,6]])\n",
        "print(array.reshape(3,2))"
      ],
      "metadata": {
        "colab": {
          "base_uri": "https://localhost:8080/"
        },
        "id": "AXGdgO2K29Gn",
        "outputId": "8fa9ed9f-dd85-48a3-c5ea-d7970065dc64"
      },
      "execution_count": 8,
      "outputs": [
        {
          "output_type": "stream",
          "name": "stdout",
          "text": [
            "[[1 2]\n",
            " [3 4]\n",
            " [5 6]]\n"
          ]
        }
      ]
    },
    {
      "cell_type": "code",
      "source": [
        "array =np.array([[1,2,3],[4,5,6]])\n",
        "print(array.flatten())\n",
        "print(array.ravel())"
      ],
      "metadata": {
        "colab": {
          "base_uri": "https://localhost:8080/"
        },
        "id": "kHJh2jej2oRv",
        "outputId": "0f5c7cad-5c60-4dc5-d437-1d4aea3914fa"
      },
      "execution_count": 10,
      "outputs": [
        {
          "output_type": "stream",
          "name": "stdout",
          "text": [
            "[1 2 3 4 5 6]\n",
            "[1 2 3 4 5 6]\n"
          ]
        }
      ]
    },
    {
      "cell_type": "code",
      "source": [
        "array1 = np.array([1, 2])\n",
        "array2 = np.array([3, 4])\n",
        "combined_array = np.concatenate((array1, array2))  # [1, 2, 3, 4]\n"
      ],
      "metadata": {
        "id": "enLBTKk83QoY"
      },
      "execution_count": 14,
      "outputs": []
    },
    {
      "cell_type": "code",
      "source": [
        "array = np.array([1,2,3,4,5,6])\n",
        "split_array = np.array_split(array,4)\n",
        "print(split_array)"
      ],
      "metadata": {
        "colab": {
          "base_uri": "https://localhost:8080/"
        },
        "id": "mtuKOHEs3TsW",
        "outputId": "4ea848d5-e60b-426e-ef73-bc3ca0d49a1a"
      },
      "execution_count": 15,
      "outputs": [
        {
          "output_type": "stream",
          "name": "stdout",
          "text": [
            "[array([1, 2]), array([3, 4]), array([5]), array([6])]\n"
          ]
        }
      ]
    },
    {
      "cell_type": "code",
      "source": [
        "array = np.array([1, 2, 3])\n",
        "print(array + 10)  # [11, 12, 13]\n",
        "print(array * 2)   # [2, 4, 6]\n",
        "\n"
      ],
      "metadata": {
        "colab": {
          "base_uri": "https://localhost:8080/"
        },
        "id": "4sImbPOD4Vu2",
        "outputId": "254169a5-878f-4cbf-d4a3-960de33e77ac"
      },
      "execution_count": 16,
      "outputs": [
        {
          "output_type": "stream",
          "name": "stdout",
          "text": [
            "[11 12 13]\n",
            "[2 4 6]\n"
          ]
        }
      ]
    },
    {
      "cell_type": "code",
      "source": [
        "array = np.array([1, 2, 3, 4])\n",
        "print(np.sum(array))  # 10\n",
        "print(np.mean(array))  # 2.5\n",
        "print(np.min(array))  # 1\n",
        "print(np.max(array))  # 4"
      ],
      "metadata": {
        "colab": {
          "base_uri": "https://localhost:8080/"
        },
        "id": "PEYtkoUa4cCv",
        "outputId": "765564bf-bc42-4034-ff5e-52dd1871fad2"
      },
      "execution_count": 18,
      "outputs": [
        {
          "output_type": "stream",
          "name": "stdout",
          "text": [
            "10\n",
            "2.5\n",
            "1\n",
            "4\n"
          ]
        }
      ]
    },
    {
      "cell_type": "code",
      "source": [
        "array = np.array([1, 2, 3])\n",
        "broadcasted_array = array + np.array([10])  # [11, 12, 13]\n"
      ],
      "metadata": {
        "id": "ett6YV1B4i5e"
      },
      "execution_count": 19,
      "outputs": []
    }
  ]
}